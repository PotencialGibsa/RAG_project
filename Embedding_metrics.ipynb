{
 "cells": [
  {
   "cell_type": "markdown",
   "id": "a9febfa4-da2a-4c46-9cfe-cd35f861afd0",
   "metadata": {},
   "source": [
    "## Для примера импортируем превый датасет с вопросами"
   ]
  },
  {
   "cell_type": "code",
   "execution_count": 1,
   "id": "81f50eeb-b86f-4838-aa1b-aeee2b5f1358",
   "metadata": {},
   "outputs": [],
   "source": [
    "import pandas as pd\n",
    "\n",
    "\n",
    "test_df = pd.read_csv('./quest_data/quest_answer_context_0.csv')"
   ]
  },
  {
   "cell_type": "code",
   "execution_count": 72,
   "id": "9863ed71-3968-4c5f-b782-6fa8540776bc",
   "metadata": {},
   "outputs": [],
   "source": [
    "question_test = test_df.iloc[89].question\n",
    "answer_test = test_df.iloc[89].answer"
   ]
  },
  {
   "cell_type": "code",
   "execution_count": 73,
   "id": "669a5b42-c719-4365-aa77-4344914da989",
   "metadata": {},
   "outputs": [
    {
     "data": {
      "text/plain": [
       "'Это соответствует 8% от общего объема рынка генеративного искусственного интеллекта с \\nдоходом уже в 3,7 миллиарда долларов США. Ожидается, что к 2028 году рынок \\nмузыкальных р ешений с ИИ увеличится более чем в десять раз, а среднегодовые темпы роста \\nсоставят около 60% . \\n• 71% опрошенных авторов музыки во Франции и Германии опасаются, что использование \\nискусственного интеллекта в их индустрии может привести к резкому понижению доходов'"
      ]
     },
     "execution_count": 73,
     "metadata": {},
     "output_type": "execute_result"
    }
   ],
   "source": [
    "test_df.iloc[89].context"
   ]
  },
  {
   "cell_type": "code",
   "execution_count": 74,
   "id": "ec1f0047-e0f0-4acc-a9ec-5cffd03f288e",
   "metadata": {},
   "outputs": [
    {
     "data": {
      "text/plain": [
       "'Какой объем рынка генеративного искусственного интеллекта составляет музыкальные решения с ИИ?'"
      ]
     },
     "execution_count": 74,
     "metadata": {},
     "output_type": "execute_result"
    }
   ],
   "source": [
    "question_test"
   ]
  },
  {
   "cell_type": "code",
   "execution_count": 75,
   "id": "ea7af75c-308b-4ac9-8d86-3cee09354d11",
   "metadata": {},
   "outputs": [
    {
     "data": {
      "text/plain": [
       "'8% от общего объема рынка.'"
      ]
     },
     "execution_count": 75,
     "metadata": {},
     "output_type": "execute_result"
    }
   ],
   "source": [
    "answer_test"
   ]
  },
  {
   "cell_type": "markdown",
   "id": "3b5c9e3e-a243-4221-93bc-2a946cedeeb4",
   "metadata": {},
   "source": [
    "## Возьмем созданную базу данных с эмбедингом"
   ]
  },
  {
   "cell_type": "code",
   "execution_count": 2,
   "id": "4a2aa13f-9972-47bc-a103-c65be3e4bdff",
   "metadata": {},
   "outputs": [
    {
     "name": "stderr",
     "output_type": "stream",
     "text": [
      "/usr/lib/python3.10/importlib/__init__.py:126: LangChainDeprecationWarning: As of langchain-core 0.3.0, LangChain uses pydantic v2 internally. The langchain_core.pydantic_v1 module was a compatibility shim for pydantic v1, and should no longer be used. Please update the code to import from Pydantic directly.\n",
      "\n",
      "For example, replace imports like: `from langchain_core.pydantic_v1 import BaseModel`\n",
      "with: `from pydantic import BaseModel`\n",
      "or the v1 compatibility namespace if you are working in a code base that has not been fully upgraded to pydantic 2 yet. \tfrom pydantic.v1 import BaseModel\n",
      "\n",
      "  return _bootstrap._gcd_import(name[level:], package, level)\n",
      "/tmp/ipykernel_8190/2540701653.py:7: LangChainDeprecationWarning: The class `HuggingFaceEmbeddings` was deprecated in LangChain 0.2.2 and will be removed in 1.0. An updated version of the class exists in the langchain-huggingface package and should be used instead. To use it run `pip install -U langchain-huggingface` and import as `from langchain_huggingface import HuggingFaceEmbeddings`.\n",
      "  embedding = HuggingFaceEmbeddings(model_name=model_name,\n",
      "/home/dima/RAG_project/lib/python3.10/site-packages/sentence_transformers/cross_encoder/CrossEncoder.py:13: TqdmWarning: IProgress not found. Please update jupyter and ipywidgets. See https://ipywidgets.readthedocs.io/en/stable/user_install.html\n",
      "  from tqdm.autonotebook import tqdm, trange\n",
      "/home/dima/RAG_project/lib/python3.10/site-packages/transformers/tokenization_utils_base.py:1601: FutureWarning: `clean_up_tokenization_spaces` was not set. It will be set to `True` by default. This behavior will be depracted in transformers v4.45, and will be then set to `False` by default. For more details check this issue: https://github.com/huggingface/transformers/issues/31884\n",
      "  warnings.warn(\n"
     ]
    }
   ],
   "source": [
    "from langchain.embeddings import HuggingFaceEmbeddings\n",
    "from langchain_chroma import Chroma\n",
    "\n",
    "model_name = \"sentence-transformers/paraphrase-multilingual-mpnet-base-v2\"\n",
    "model_kwargs = {'device': 'cpu'}\n",
    "encode_kwargs = {'normalize_embeddings': False}\n",
    "embedding = HuggingFaceEmbeddings(model_name=model_name,\n",
    "                                  model_kwargs=model_kwargs,\n",
    "                                  encode_kwargs=encode_kwargs)"
   ]
  },
  {
   "cell_type": "code",
   "execution_count": 6,
   "id": "22c69be1-74e1-4649-bb4f-82ffedb3af18",
   "metadata": {},
   "outputs": [],
   "source": [
    "vector_store = Chroma(collection_name = '500100', embedding_function = embedding, persist_directory = './DataBase/db_500_100')"
   ]
  },
  {
   "cell_type": "code",
   "execution_count": 82,
   "id": "f7dc32d7-e150-45de-8e95-f8d561949aef",
   "metadata": {},
   "outputs": [],
   "source": [
    "result_question = [i.page_content for i in vector_store.similarity_search(question_test, k = 100)]"
   ]
  },
  {
   "cell_type": "markdown",
   "id": "075b6336-dbec-4ea1-9a9a-f690fb68389f",
   "metadata": {},
   "source": [
    "## Функция для выделения релевантности эмбеддинга\n",
    "строим новый вектор стор для ответа и эмбеддингов и выбираем k ближайших к нему эмбеддингов, кто из results попал в данный список , считаются релевантными остальные нет."
   ]
  },
  {
   "cell_type": "code",
   "execution_count": 83,
   "id": "182c5b26-dfc8-4220-acf8-0d744c77fd23",
   "metadata": {},
   "outputs": [],
   "source": [
    "import string\n",
    "from langchain.retrievers import BM25Retriever \n",
    "\n",
    "\n",
    "def tokenize(s):\n",
    "    return s.lower().translate(str.maketrans(\"\", \"\", string.punctuation)).split(\" \")\n",
    "     \n",
    "\n",
    "bm25_retriever = BM25Retriever.from_texts(\n",
    "      texts=vector_store.get()['documents'],\n",
    "      preprocess_func=tokenize,\n",
    "      k=100,\n",
    "  )\n",
    "result_answer = [i.page_content for i in bm25_retriever.get_relevant_documents(answer_test)]"
   ]
  },
  {
   "cell_type": "code",
   "execution_count": 84,
   "id": "e076fc7d-33ba-4f11-8bf5-4d11a6f5a9b5",
   "metadata": {},
   "outputs": [],
   "source": [
    "result_question_set = set(result_question)\n",
    "result_answer_set = set(result_answer)\n",
    "result_cross_set = result_question_set & result_answer_set\n",
    "result_question_diff_set = result_question_set - result_answer_set"
   ]
  },
  {
   "cell_type": "code",
   "execution_count": 85,
   "id": "a86a4c42-bd63-49cb-9fc6-71e4aec261c9",
   "metadata": {},
   "outputs": [
    {
     "data": {
      "text/plain": [
       "2"
      ]
     },
     "execution_count": 85,
     "metadata": {},
     "output_type": "execute_result"
    }
   ],
   "source": [
    "len(result_cross_set)"
   ]
  },
  {
   "cell_type": "code",
   "execution_count": 117,
   "id": "34eae987-e76d-40c2-92d9-d1afb064b9c1",
   "metadata": {},
   "outputs": [],
   "source": [
    "def Rank_precision(table, rank):\n",
    "    table_new = table.loc[table.Rank <= rank]\n",
    "    return len(table_new.loc[table_new.Judgment == True]) / len(table_new)\n",
    "\n",
    "\n",
    "def Rank_recall(table, rank):\n",
    "    all_R = table.loc[table.Judgment == True]\n",
    "    if len(all_R) == 0:\n",
    "        return 0\n",
    "    table_new = table.loc[table.Rank <= rank]\n",
    "    return len(table_new.loc[table_new.Judgment == True]) / len(all_R)"
   ]
  },
  {
   "cell_type": "code",
   "execution_count": 91,
   "id": "e85338f2-346e-401d-937f-f59ddf2ec3b0",
   "metadata": {},
   "outputs": [],
   "source": [
    "rank_table = pd.DataFrame(columns = ['chunk', 'Rank', 'Judgment', 'Precision', 'Recall'])\n",
    "rank_table['chunk'] = result_question\n",
    "rank_table['Rank'] = list(range(len(result_question)))\n",
    "rank_table['Judgment'] = rank_table.chunk.apply(lambda x: x in result_cross_set)"
   ]
  },
  {
   "cell_type": "code",
   "execution_count": 107,
   "id": "6ed75aa5-aab7-4349-a9b7-5dedbd993a0a",
   "metadata": {},
   "outputs": [],
   "source": [
    "Rank_precision_list = []\n",
    "Rank_recall_list = []\n",
    "\n",
    "for r in rank_table.Rank:\n",
    "    Rank_precision_list.append(Rank_precision(rank_table, r))\n",
    "    Rank_recall_list.append(Rank_recall(rank_table, r))\n",
    "\n",
    "rank_table['Precision'] = Rank_precision_list\n",
    "rank_table['Recall'] = Rank_recall_list\n"
   ]
  },
  {
   "cell_type": "code",
   "execution_count": 108,
   "id": "50f19b09-4775-4fa3-8d6f-d8e3724fe706",
   "metadata": {},
   "outputs": [
    {
     "data": {
      "text/html": [
       "<div>\n",
       "<style scoped>\n",
       "    .dataframe tbody tr th:only-of-type {\n",
       "        vertical-align: middle;\n",
       "    }\n",
       "\n",
       "    .dataframe tbody tr th {\n",
       "        vertical-align: top;\n",
       "    }\n",
       "\n",
       "    .dataframe thead th {\n",
       "        text-align: right;\n",
       "    }\n",
       "</style>\n",
       "<table border=\"1\" class=\"dataframe\">\n",
       "  <thead>\n",
       "    <tr style=\"text-align: right;\">\n",
       "      <th></th>\n",
       "      <th>chunk</th>\n",
       "      <th>Rank</th>\n",
       "      <th>Judgment</th>\n",
       "      <th>Precision</th>\n",
       "      <th>Recall</th>\n",
       "    </tr>\n",
       "  </thead>\n",
       "  <tbody>\n",
       "    <tr>\n",
       "      <th>0</th>\n",
       "      <td>11 \\n \\n Национальный центр развития искусстве...</td>\n",
       "      <td>0</td>\n",
       "      <td>False</td>\n",
       "      <td>0.000000</td>\n",
       "      <td>0.0</td>\n",
       "    </tr>\n",
       "    <tr>\n",
       "      <th>1</th>\n",
       "      <td>портала в сфере ИИ  \\n  \\n \\nЭтот отчет являет...</td>\n",
       "      <td>1</td>\n",
       "      <td>True</td>\n",
       "      <td>0.500000</td>\n",
       "      <td>0.5</td>\n",
       "    </tr>\n",
       "    <tr>\n",
       "      <th>2</th>\n",
       "      <td>Это соответствует 8% от общего объема рынка ге...</td>\n",
       "      <td>2</td>\n",
       "      <td>True</td>\n",
       "      <td>0.666667</td>\n",
       "      <td>1.0</td>\n",
       "    </tr>\n",
       "    <tr>\n",
       "      <th>3</th>\n",
       "      <td>интеллекта в музыкальном секторе/AI and Music....</td>\n",
       "      <td>3</td>\n",
       "      <td>False</td>\n",
       "      <td>0.500000</td>\n",
       "      <td>1.0</td>\n",
       "    </tr>\n",
       "    <tr>\n",
       "      <th>4</th>\n",
       "      <td>G O L D M E D I A\\n”Artificial intelligence wi...</td>\n",
       "      <td>4</td>\n",
       "      <td>False</td>\n",
       "      <td>0.400000</td>\n",
       "      <td>1.0</td>\n",
       "    </tr>\n",
       "    <tr>\n",
       "      <th>...</th>\n",
       "      <td>...</td>\n",
       "      <td>...</td>\n",
       "      <td>...</td>\n",
       "      <td>...</td>\n",
       "      <td>...</td>\n",
       "    </tr>\n",
       "    <tr>\n",
       "      <th>95</th>\n",
       "      <td>Влияние искусственного интеллекта на образован...</td>\n",
       "      <td>95</td>\n",
       "      <td>False</td>\n",
       "      <td>0.020833</td>\n",
       "      <td>1.0</td>\n",
       "    </tr>\n",
       "    <tr>\n",
       "      <th>96</th>\n",
       "      <td>Влияние искусственного интеллекта на образован...</td>\n",
       "      <td>96</td>\n",
       "      <td>False</td>\n",
       "      <td>0.020619</td>\n",
       "      <td>1.0</td>\n",
       "    </tr>\n",
       "    <tr>\n",
       "      <th>97</th>\n",
       "      <td>G O L D M E D I AEven though only 15% of the s...</td>\n",
       "      <td>97</td>\n",
       "      <td>False</td>\n",
       "      <td>0.020408</td>\n",
       "      <td>1.0</td>\n",
       "    </tr>\n",
       "    <tr>\n",
       "      <th>98</th>\n",
       "      <td>vulnerable than others. ”Generally speaking, t...</td>\n",
       "      <td>98</td>\n",
       "      <td>False</td>\n",
       "      <td>0.020202</td>\n",
       "      <td>1.0</td>\n",
       "    </tr>\n",
       "    <tr>\n",
       "      <th>99</th>\n",
       "      <td>G O L D M E D I AOnly 26% of the questioned GE...</td>\n",
       "      <td>99</td>\n",
       "      <td>False</td>\n",
       "      <td>0.020000</td>\n",
       "      <td>1.0</td>\n",
       "    </tr>\n",
       "  </tbody>\n",
       "</table>\n",
       "<p>100 rows × 5 columns</p>\n",
       "</div>"
      ],
      "text/plain": [
       "                                                chunk  Rank  Judgment  \\\n",
       "0   11 \\n \\n Национальный центр развития искусстве...     0     False   \n",
       "1   портала в сфере ИИ  \\n  \\n \\nЭтот отчет являет...     1      True   \n",
       "2   Это соответствует 8% от общего объема рынка ге...     2      True   \n",
       "3   интеллекта в музыкальном секторе/AI and Music....     3     False   \n",
       "4   G O L D M E D I A\\n”Artificial intelligence wi...     4     False   \n",
       "..                                                ...   ...       ...   \n",
       "95  Влияние искусственного интеллекта на образован...    95     False   \n",
       "96  Влияние искусственного интеллекта на образован...    96     False   \n",
       "97  G O L D M E D I AEven though only 15% of the s...    97     False   \n",
       "98  vulnerable than others. ”Generally speaking, t...    98     False   \n",
       "99  G O L D M E D I AOnly 26% of the questioned GE...    99     False   \n",
       "\n",
       "    Precision  Recall  \n",
       "0    0.000000     0.0  \n",
       "1    0.500000     0.5  \n",
       "2    0.666667     1.0  \n",
       "3    0.500000     1.0  \n",
       "4    0.400000     1.0  \n",
       "..        ...     ...  \n",
       "95   0.020833     1.0  \n",
       "96   0.020619     1.0  \n",
       "97   0.020408     1.0  \n",
       "98   0.020202     1.0  \n",
       "99   0.020000     1.0  \n",
       "\n",
       "[100 rows x 5 columns]"
      ]
     },
     "execution_count": 108,
     "metadata": {},
     "output_type": "execute_result"
    }
   ],
   "source": [
    "rank_table"
   ]
  },
  {
   "cell_type": "code",
   "execution_count": 120,
   "id": "d3c2a041-f2fc-4297-90e0-74b4e399df8f",
   "metadata": {},
   "outputs": [],
   "source": [
    "# Average precision\n",
    "def AP(table):\n",
    "    choose_relevant = table.loc[table.Judgment == True].Precision\n",
    "    if choose_relevant.count() == 0:\n",
    "        return 0\n",
    "    return choose_relevant.sum() / choose_relevant.count()"
   ]
  },
  {
   "cell_type": "code",
   "execution_count": 110,
   "id": "84420fdd-8c95-4bc8-9e3e-849d11e87a72",
   "metadata": {},
   "outputs": [
    {
     "data": {
      "text/plain": [
       "0.5833333333333333"
      ]
     },
     "execution_count": 110,
     "metadata": {},
     "output_type": "execute_result"
    }
   ],
   "source": [
    "AP(rank_table)"
   ]
  },
  {
   "cell_type": "markdown",
   "id": "d57f58e9-d705-456c-9a8c-f8e78e0d08af",
   "metadata": {},
   "source": [
    "## Сделаем метрику на несколько вопросов"
   ]
  },
  {
   "cell_type": "code",
   "execution_count": 122,
   "id": "0cb108b5-117a-4f2d-bb3e-00d4f48efe73",
   "metadata": {},
   "outputs": [
    {
     "name": "stdout",
     "output_type": "stream",
     "text": [
      "Question:  Какие четыре механизма политики используются для увеличения регуляторной видимости? with AP =  0\n",
      "Question:  Какие проблемы возникают при работе с большим объемом данных? with AP =  0\n",
      "Question:  Какие страны будут вести экономическую разведку? with AP =  0\n",
      "Question:  Кто является редактором Munich Security Report 2024? with AP =  0\n",
      "Question:  Для чего используется синтетическая данные? with AP =  0\n",
      "Question:  Какие меры предпринимаются для обеспечения соблюдения прав человека в отношении систем искусственного интеллекта? with AP =  0.19642857142857142\n",
      "Question:  Когда был опубликован выпуск 1, номер 1 журнала? with AP =  0\n",
      "Question:  Кто стала основоположником первой советской школы теоретического программирования? with AP =  0\n",
      "Question:  Какие формы кода и артефакты необходимо хранить в системе контроля версий? with AP =  1.0\n",
      "Question:  Что влияет на количество необходимых компьютерных ресурсов для обучения и работы модели машинного обучения? with AP =  0\n",
      "Question:  Как создается синтетическая данные? with AP =  0.3333333333333333\n",
      "Question:  Какие проблемы могут возникнуть при обучении общего цели ИИ-чатботов? with AP =  0\n",
      "Question:  Каковы критерии для получения финансовой помощи по программе High-Performance Computing (HPC)? with AP =  0\n",
      "Question:  Какие факторы учитываются при обучении критическому мышлению в контексте искусственного интеллекта? with AP =  0\n",
      "Question:  Что произойдет с компаниями, если они будут использовать роботов для улучшения эффективности? with AP =  0\n",
      "Question:  Какие области применения AI-системы упоминаются в тексте? with AP =  0\n",
      "Question:  Что является основной целью директивы ЕС по ответственности за вред, причиненный AI-системами? with AP =  0\n",
      "Question:  Какой суммы финансирования получили AI-проекты в прошлом году? with AP =  0\n",
      "Question:  Какой год исследований представлен в предоставленном тексте? with AP =  0\n",
      "Question:  Какие изменения ожидаете в спросе на услуги юристов с развитием технологий юридического права? with AP =  0.5\n",
      "Question:  Кто просит Генерального секретаря представить Генеральной Ассамблее процесс наращивания потенциала в области искусственного интеллекта? with AP =  0.16666666666666666\n",
      "Question:  Какая собственность отсутствует в таблице? with AP =  0\n",
      "Question:  Какие два типа инноваций различаются по своей природе? with AP =  0.39285714285714285\n",
      "Question:  Кто является заявителем патента CN116521840? with AP =  0\n",
      "Question:  Когда начался проект по операционизации надзора за ИИ? with AP =  0\n",
      "Question:  Какой процент мужчин в возрасте от 18 до 24 лет имеет высшее образование? with AP =  0\n",
      "Question:  Какая система безопасности транспорта была улучшена после внедрения нового ГОСТа? with AP =  0\n",
      "Question:  Какой конкретно пример подчеркивает важность больших наборов данных и рисков, связанных с отсутствием мер безопасности в экосистеме данных? with AP =  0\n",
      "Question:  Какие ограничения существующих моделей глубокого обучения преодолевает новый метод прогнозирования осадков? with AP =  0.8333333333333333\n",
      "Question:  Какое количество разделов в представленном списке? with AP =  0\n",
      "Question:  Что является результатом пересечения порогов воздействия при конфликте? with AP =  0\n",
      "Question:  Какие три отрасли развлечений в частности рассматриваются в этом отчете? with AP =  0\n",
      "Question:  Кто, по мнению автора, создаст полноценную цифровую экосистему в США? with AP =  0\n",
      "Question:  Какой код доступа указан в источнике \"Artificial Intelligence Market in the Education Sector in US by End-user and Education model - Forecast and Analysis 2022-2026\"? with AP =  0\n",
      "Question:  Какая страна планирует создать рынок в размере USD 150 миллиардов к 2030 году? with AP =  0\n",
      "Question:  Какой номер отсутствует в последовательности? with AP =  0\n",
      "Question:  Какие риски могут возникнуть при использовании моделей GenAI? with AP =  0\n",
      "Question:  Где планируется внедрить AI-поддерживаемые цифровые учебники? with AP =  0\n",
      "Question:  Кто написал статью \"Trust in Automation: Designing for Appropriate Reliance\"? with AP =  0\n",
      "Question:  Какие проблемы могут возникнуть при использовании генеративных АИ-систем для создания новостей? with AP =  0\n",
      "Question:  Кто стал лидером в реализации концепции контролируемой среды? with AP =  0\n",
      "Question:  Какие инструменты используются для предпросмотра кандидатов? with AP =  0\n",
      "Question:  Кто является авторами книги \"The economic potential of generative AI\"? with AP =  0\n",
      "Question:  Когда была опубликована работа \"LLM Lies: Hallucinations Are Not Bugs, but Features as Adversarial Examples\"? with AP =  0\n",
      "Question:  Кто написал работу \"Transparency is far from sufficient on its own and it may not always bring about the desired change\"? with AP =  0\n",
      "Question:  Кто из экспертов согласен с тем, что технологические и данный-ориентированные усилия в сельском хозяйстве могут оставить позади тех, кто нуждается в поддержке? with AP =  0\n",
      "Question:  Какие новые бизнес-модели могут появиться в будущем? with AP =  0\n",
      "Question:  Какие институты опубликовали наибольшее количество научных публикаций по GenAI? with AP =  0\n",
      "Question:  Какие факторы способствуют оттоку рабочей силы из некоторых стран? with AP =  0\n",
      "Question:  Из каких источников собираются данные для проекта? with AP =  0\n",
      "Question:  Какая точность была достигнута при верификации аварий с помощью мотодоставки? with AP =  0\n",
      "Question:  Какие два метода используются для улучшения удовлетворенности клиентов? with AP =  0\n",
      "Question:  Какая доля поданных патентов на изобретения в части использования искусственного интеллекта для решения отраслевых задач? with AP =  0\n",
      "Question:  Какие области инноваций будут реализованы в энергетическом секторе? with AP =  0\n",
      "Question:  Для чего может использоваться метаданные о персональных данных в эпоху искусственного интеллекта? with AP =  0\n",
      "Question:  В какие страны наблюдается увеличение разрыва в показателях? with AP =  0\n",
      "Question:  В каком году началось реализация проекта? with AP =  0\n",
      "Question:  Какие затраты домашних хозяйств на использование цифровых технологий и связанных с ними товаров и услуг были зафиксированы в 2021 году? with AP =  0\n",
      "Question:  Для чего проводилась эта исследовательская работа? with AP =  0\n",
      "Question:  Какой формат публикации используется для размещения обновлений? with AP =  0\n",
      "Question:  Какие роли есть в отделе технологий? with AP =  0\n",
      "Question:  Какая доля респондентов считает, что произойдет «революция роботов»? with AP =  0\n",
      "Question:  Кто предлагает механизмы мониторинга кризисов и раннего предупреждения? with AP =  0\n",
      "Question:  Какие методы были использованы для анализа национальных путей в контексте продовольственной системы? with AP =  0\n",
      "Question:  На какой конференции были представлены новые методы планирования траектории мобильного агента в среде с движущимися препятствиями? with AP =  0\n",
      "Question:  Кто является источником данных для анализа ARK Investment Management LLC? with AP =  0.3333333333333333\n",
      "Question:  Какие компании создали модели, для которых доступны публичные карточки? with AP =  0\n",
      "Question:  Кто становится все более квалифицированными в своих атаках? with AP =  0\n",
      "Question:  Какое правило описывает снижение затрат при увеличении производства компании? with AP =  0\n",
      "Question:  Какие четыре ключевых направления определяют подход к этическим данным? with AP =  0\n",
      "Question:  Сможет ли текущий модель AI напрямую воспроизвести обучающий материал? with AP =  0\n",
      "Question:  Какая динамика удельного веса иностранных студентов в общей численности студентов по программам бакалавриата, специалитета, магистратуры в России с 2017/2018 по 2023/2024 год? with AP =  0.5111111111111111\n",
      "Question:  Какие два типа алгоритмов используются в генеративном АИ? with AP =  0\n",
      "Question:  Когда были обновлены Линии директив ОЭСР относительно защиты частной жизни? with AP =  1.0\n",
      "Question:  Какую важность имеют профессионалы при выборе генеративных инструментов AI? with AP =  0\n",
      "Question:  Какая процентная оценка размера инцидентного управления команды может быть достигнута с помощью генеративных АИ? with AP =  0\n",
      "Question:  Какие инструменты используются в системе управления знания? with AP =  0\n",
      "Question:  Какие сферы наиболее активно используют искусственный интеллект? with AP =  0\n",
      "Question:  Где расположены центральные функции? with AP =  0\n",
      "Question:  Какой раздел содержит информацию о квалификационных пакетах (QPs) и национальных профессиональных стандартах (NOS) для искусственного интеллекта и большого данных? with AP =  0\n",
      "Question:  Какие страны лидируют в использовании технологий ИИ в фармацевтической промышленности? with AP =  0\n",
      "Question:  Что может произойти с данными при их неправильном обучении? with AP =  1.0\n",
      "Question:  Какой язык используется в ECHO для связи с гражданами? with AP =  0\n",
      "Question:  Какая информация указана о том, как ESG-стратегия влияет на рост и финансовую эффективность организации? with AP =  0\n",
      "Question:  Какая разница в средних оценках между верхней и нижней среднедушевой доходностью стран? with AP =  0\n",
      "Question:  Какую роль может сыграть правительство в организации проекта по управлению пост-суперинтеллектуальным миром? with AP =  0\n",
      "Question:  Какие услуги, по мнению автора, являются социально ценными? with AP =  0\n",
      "Question:  Какие проблемы могут возникнуть у издателей при блокировке веб-роботов? with AP =  0\n",
      "Question:  Какие конкретные возможности могут привести к потере контроля? with AP =  0\n",
      "Question:  Какой объем рынка генеративного искусственного интеллекта составляет музыкальные решения с ИИ? with AP =  0.5833333333333333\n",
      "Question:  Какой бюджет предусмотрен для Future Design IndiaAI схемы? with AP =  0\n",
      "Question:  Кто является автором работы \"A Roadmap to Pluralistic Alignment\"? with AP =  0\n",
      "Question:  Что является основной проблемой в решении робототехники? with AP =  0\n",
      "Question:  Что дает клиентам выбор среди поставщиков облачных и АИ-технологий? with AP =  0\n",
      "Question:  Кто является издателем публикации? with AP =  0\n",
      "Question:  Кто проводит образовательные сессии для министерства цифровой трансформации ИИ ОАЭ? with AP =  0\n",
      "Question:  Какие технологии и платформы использовались для хранения отчетов? with AP =  0\n",
      "Question:  Какую интеграцию ПО между системами обеспечивают программисты в компании? with AP =  0\n",
      "Question:  Какая доля доходов от рекламы и коммерции составляет в общем объеме доходов? with AP =  0\n",
      "Question:  Какой подход к созданию денежной стоимости от обмена данными с третьими сторонами AI-разработчиками предлагает для коммерческих и некоммерческих партнерств по обмену данными? with AP =  0\n"
     ]
    }
   ],
   "source": [
    "import numpy as np\n",
    "AP_list = []\n",
    "k = 10\n",
    "bm25_retriever = BM25Retriever.from_texts(\n",
    "      texts=vector_store.get()['documents'],\n",
    "      preprocess_func=tokenize,\n",
    "      k=k,\n",
    "  )\n",
    "for i in range(len(test_df)):\n",
    "    question_test = test_df.iloc[i].question\n",
    "    answer_test = test_df.iloc[i].answer\n",
    "    result_question = [i.page_content for i in vector_store.similarity_search(question_test, k = k)]\n",
    "    result_answer = [i.page_content for i in bm25_retriever.get_relevant_documents(answer_test)]\n",
    "    result_question_set = set(result_question)\n",
    "    result_answer_set = set(result_answer)\n",
    "    result_cross_set = result_question_set & result_answer_set\n",
    "    rank_table = pd.DataFrame(columns = ['chunk', 'Rank', 'Judgment', 'Precision', 'Recall'])\n",
    "    rank_table['chunk'] = result_question\n",
    "    rank_table['Rank'] = list(range(len(result_question)))\n",
    "    rank_table['Judgment'] = rank_table.chunk.apply(lambda x: x in result_cross_set)\n",
    "\n",
    "    Rank_precision_list = []\n",
    "    Rank_recall_list = []\n",
    "    \n",
    "    for r in rank_table.Rank:\n",
    "        Rank_precision_list.append(Rank_precision(rank_table, r))\n",
    "        Rank_recall_list.append(Rank_recall(rank_table, r))\n",
    "    \n",
    "    rank_table['Precision'] = Rank_precision_list\n",
    "    rank_table['Recall'] = Rank_recall_list\n",
    "\n",
    "    AP_val = AP(rank_table)\n",
    "    \n",
    "    AP_list.append(AP_val)\n",
    "    print('Question: ', question_test, 'with AP = ', AP_val)\n"
   ]
  },
  {
   "cell_type": "code",
   "execution_count": 123,
   "id": "af61c315-3bef-4bce-8d43-1be4e67c5f21",
   "metadata": {},
   "outputs": [
    {
     "name": "stdout",
     "output_type": "stream",
     "text": [
      "MAP =  0.06850396825396825\n"
     ]
    }
   ],
   "source": [
    "print('MAP = ', np.mean(AP_list))"
   ]
  },
  {
   "cell_type": "code",
   "execution_count": null,
   "id": "4b283dbb-921f-41c5-a9b0-f066adacecf1",
   "metadata": {},
   "outputs": [],
   "source": []
  }
 ],
 "metadata": {
  "kernelspec": {
   "display_name": "RAG_project",
   "language": "python",
   "name": "rag_project"
  },
  "language_info": {
   "codemirror_mode": {
    "name": "ipython",
    "version": 3
   },
   "file_extension": ".py",
   "mimetype": "text/x-python",
   "name": "python",
   "nbconvert_exporter": "python",
   "pygments_lexer": "ipython3",
   "version": "3.10.12"
  }
 },
 "nbformat": 4,
 "nbformat_minor": 5
}
