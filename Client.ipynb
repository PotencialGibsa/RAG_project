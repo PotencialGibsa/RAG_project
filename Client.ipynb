{
 "cells": [
  {
   "cell_type": "code",
   "execution_count": 1,
   "id": "07b27a9c-e721-408e-b6d2-d0ad28a6964e",
   "metadata": {},
   "outputs": [],
   "source": [
    "# Скачивание документов из папки articles\n",
    "import glob\n",
    "\n",
    "\n",
    "articles_pdf = glob.glob('./articles/*.pdf')\n",
    "articles_docx = glob.glob('./articles/*.doc*')"
   ]
  },
  {
   "cell_type": "code",
   "execution_count": 2,
   "id": "03f47e51-3c34-4a26-8b66-767701804739",
   "metadata": {},
   "outputs": [
    {
     "data": {
      "text/plain": [
       "['./articles/«Инициатива по саморегулированию в индустрии генеративного ИИ».docx',\n",
       " './articles/Состояние индустрии больших ИИ-моделей в Китае в 2024 г.doc']"
      ]
     },
     "execution_count": 2,
     "metadata": {},
     "output_type": "execute_result"
    }
   ],
   "source": [
    "articles_docx"
   ]
  },
  {
   "cell_type": "code",
   "execution_count": 3,
   "id": "e0c07484-3e67-41f7-b24a-8f690749ea9d",
   "metadata": {},
   "outputs": [],
   "source": [
    "articles_text = []"
   ]
  },
  {
   "cell_type": "code",
   "execution_count": 4,
   "id": "b7590e5d-5a7b-4a53-8fb9-fc022a93076d",
   "metadata": {},
   "outputs": [],
   "source": [
    "# Выделение текста из pdf файлов\n",
    "from langchain_community.document_loaders import PyPDFLoader\n",
    "from langchain.text_splitter import RecursiveCharacterTextSplitter\n",
    "\n",
    "text_splitter = RecursiveCharacterTextSplitter(chunk_size=500,\n",
    "                                              chunk_overlap=100)\n",
    "\n",
    "for art_pdf in articles_pdf:\n",
    "    loader = PyPDFLoader(art_pdf)\n",
    "    for chunk_art_pdf in loader.load_and_split(text_splitter):\n",
    "        articles_text.append(chunk_art_pdf)"
   ]
  },
  {
   "cell_type": "code",
   "execution_count": 5,
   "id": "f82b956c-d326-4f4d-9cbe-170fadcd7721",
   "metadata": {},
   "outputs": [],
   "source": [
    "# Выделение текста из docx файлов\n",
    "from langchain_community.document_loaders import UnstructuredWordDocumentLoader\n",
    "for art_docx in articles_docx:\n",
    "    loader = UnstructuredWordDocumentLoader(art_docx)\n",
    "    for chunk_art_docx in loader.load_and_split(text_splitter):\n",
    "        articles_text.append(chunk_art_docx)"
   ]
  },
  {
   "cell_type": "code",
   "execution_count": 6,
   "id": "1403be8f-d986-4ad1-a549-927647c8f4ac",
   "metadata": {},
   "outputs": [
    {
     "name": "stderr",
     "output_type": "stream",
     "text": [
      "/usr/lib/python3.10/importlib/__init__.py:126: LangChainDeprecationWarning: As of langchain-core 0.3.0, LangChain uses pydantic v2 internally. The langchain_core.pydantic_v1 module was a compatibility shim for pydantic v1, and should no longer be used. Please update the code to import from Pydantic directly.\n",
      "\n",
      "For example, replace imports like: `from langchain_core.pydantic_v1 import BaseModel`\n",
      "with: `from pydantic import BaseModel`\n",
      "or the v1 compatibility namespace if you are working in a code base that has not been fully upgraded to pydantic 2 yet. \tfrom pydantic.v1 import BaseModel\n",
      "\n",
      "  return _bootstrap._gcd_import(name[level:], package, level)\n",
      "/tmp/ipykernel_16554/1436424486.py:7: LangChainDeprecationWarning: The class `HuggingFaceEmbeddings` was deprecated in LangChain 0.2.2 and will be removed in 1.0. An updated version of the class exists in the langchain-huggingface package and should be used instead. To use it run `pip install -U langchain-huggingface` and import as `from langchain_huggingface import HuggingFaceEmbeddings`.\n",
      "  embedding = HuggingFaceEmbeddings(model_name=model_name,\n",
      "/home/dima/RAG_project/lib/python3.10/site-packages/sentence_transformers/cross_encoder/CrossEncoder.py:13: TqdmWarning: IProgress not found. Please update jupyter and ipywidgets. See https://ipywidgets.readthedocs.io/en/stable/user_install.html\n",
      "  from tqdm.autonotebook import tqdm, trange\n",
      "/home/dima/RAG_project/lib/python3.10/site-packages/transformers/tokenization_utils_base.py:1601: FutureWarning: `clean_up_tokenization_spaces` was not set. It will be set to `True` by default. This behavior will be depracted in transformers v4.45, and will be then set to `False` by default. For more details check this issue: https://github.com/huggingface/transformers/issues/31884\n",
      "  warnings.warn(\n"
     ]
    }
   ],
   "source": [
    "from langchain.embeddings import HuggingFaceEmbeddings\n",
    "from langchain_chroma import Chroma\n",
    "\n",
    "model_name = \"sentence-transformers/paraphrase-multilingual-mpnet-base-v2\"\n",
    "model_kwargs = {'device': 'cpu'}\n",
    "encode_kwargs = {'normalize_embeddings': False}\n",
    "embedding = HuggingFaceEmbeddings(model_name=model_name,\n",
    "                                  model_kwargs=model_kwargs,\n",
    "                                  encode_kwargs=encode_kwargs)\n",
    "\n",
    "vector_store = Chroma.from_documents(articles_text, embedding=embedding)"
   ]
  },
  {
   "cell_type": "markdown",
   "id": "5d5669ca-dafb-40fb-b146-f3ade056ac7e",
   "metadata": {},
   "source": [
    "## Запуск на LLama 3"
   ]
  },
  {
   "cell_type": "code",
   "execution_count": null,
   "id": "843073c8-86b2-4b08-b3c2-7f102dc7720e",
   "metadata": {},
   "outputs": [],
   "source": [
    "import requests\n",
    "import json\n",
    "\n",
    "\n",
    "def client(question):\n",
    "    url = \"http://192.168.1.152:8888/api/echo\"\n",
    "    headers = {\n",
    "        \"Content-Type\": \"application/json\"\n",
    "    }\n",
    "    data = {\n",
    "        'prompt' : question\n",
    "    }\n",
    "    response = requests.post(url, headers=headers, data=json.dumps(data))\n",
    "    return response.json()['answer']"
   ]
  },
  {
   "cell_type": "code",
   "execution_count": 28,
   "id": "c5952268-c6e5-449a-837a-f34cb03b4169",
   "metadata": {},
   "outputs": [
    {
     "ename": "TypeError",
     "evalue": "string indices must be integers",
     "output_type": "error",
     "traceback": [
      "\u001b[0;31m---------------------------------------------------------------------------\u001b[0m",
      "\u001b[0;31mTypeError\u001b[0m                                 Traceback (most recent call last)",
      "Cell \u001b[0;32mIn[28], line 30\u001b[0m\n\u001b[1;32m     25\u001b[0m data \u001b[38;5;241m=\u001b[39m {\n\u001b[1;32m     26\u001b[0m     \u001b[38;5;124m'\u001b[39m\u001b[38;5;124mprompt\u001b[39m\u001b[38;5;124m'\u001b[39m : prompt\n\u001b[1;32m     27\u001b[0m }\n\u001b[1;32m     29\u001b[0m response \u001b[38;5;241m=\u001b[39m requests\u001b[38;5;241m.\u001b[39mpost(url, headers\u001b[38;5;241m=\u001b[39mheaders, data\u001b[38;5;241m=\u001b[39mjson\u001b[38;5;241m.\u001b[39mdumps(data))\n\u001b[0;32m---> 30\u001b[0m \u001b[43mresponse\u001b[49m\u001b[38;5;241;43m.\u001b[39;49m\u001b[43mtext\u001b[49m\u001b[43m[\u001b[49m\u001b[38;5;124;43m'\u001b[39;49m\u001b[38;5;124;43manswer\u001b[39;49m\u001b[38;5;124;43m'\u001b[39;49m\u001b[43m]\u001b[49m\n",
      "\u001b[0;31mTypeError\u001b[0m: string indices must be integers"
     ]
    }
   ],
   "source": [
    "question = 'What factors contribute to the success of Russian teams in international competitions in math, programming, and science, and how does the presence of a competitive AI community in Russia affect these achievements?'\n",
    "\n",
    "context = vector_store.similarity_search(\n",
    "    question,\n",
    "    k=2\n",
    ")\n",
    "\n",
    "context_text = ['\\n'.join([i.page_content for i in context])]\n",
    "\n",
    "\n",
    "prompt = f'''Ты ассистент, который очень хочет помочь.\\\n",
    "Ответь на вопрос пользователя. \\\n",
    "Используй при этом только информацию из контекста. Если в контексте нет \\\n",
    "информации для ответа, сообщи об этом пользователю.\n",
    "Контекст: {context_text} \\\n",
    "Вопрос: {question} \\\n",
    "Ответ:'''\n",
    "import requests\n",
    "import json\n",
    "\n",
    "url = \"http://192.168.1.152:8888/api/echo\"\n",
    "headers = {\n",
    "    \"Content-Type\": \"application/json\"\n",
    "}\n",
    "data = {\n",
    "    'prompt' : prompt\n",
    "}\n",
    "\n",
    "response = requests.post(url, headers=headers, data=json.dumps(data))\n",
    "response.json()['answer']"
   ]
  },
  {
   "cell_type": "code",
   "execution_count": 29,
   "id": "0a25b84b-3f79-473b-b3bb-45d2b1a2302e",
   "metadata": {},
   "outputs": [
    {
     "data": {
      "text/plain": [
       "requests.models.Response"
      ]
     },
     "execution_count": 29,
     "metadata": {},
     "output_type": "execute_result"
    }
   ],
   "source": [
    "type(response)"
   ]
  },
  {
   "cell_type": "code",
   "execution_count": 33,
   "id": "56f778f5-e9c8-4df1-a4c8-64cc4f19b990",
   "metadata": {},
   "outputs": [
    {
     "name": "stdout",
     "output_type": "stream",
     "text": [
      "Судя по предоставленной информации, факторы, которые способствуют успеху российских команд в международных конкурсах по математике, программированию и науке, следующие:\n",
      "\n",
      "1. Регулярные победы российских команд на школьных и студенческих олимпиадах по математике, информатике и программированию.\n",
      "2. Вход России в десятку стран-лидеров по количеству научных публикаций по физике, математике и химии.\n",
      "\n",
      "Присутствие активного и растущего сообщества специалистов по обработке данных с использованием искусственного интеллекта в Российской Федерации также является важным фактором. Это сообщество регулярно представляет результаты своей работы на научных конференциях мирового уровня, что способствует развитию исследований в этой области.\n",
      "\n",
      "В частности, более 50% российских ученых, работающих в исследовательских центрах, публикуют свои работы на конференциях по искусственному интеллекту уровня А*, а более 30% организаций, осуществляющих деятельность в различных отраслях экономики, применяют технологии искусственного интеллекта. Это говорит о том, что российская научная и индустриальная база поддерживает развитие исследований и внедрения технологий AI.\n",
      "\n",
      "Таким образом, присутствие конкурентоспособного сообщества по обработке данных с использованием искусственного интеллекта в России способствует развитию исследований и внедрению технологий AI, что, в свою очередь, способствует успеху российских команд в международных конкурсах по математике, программированию и науке.\n"
     ]
    }
   ],
   "source": [
    "print(response.json()['answer'])"
   ]
  },
  {
   "cell_type": "code",
   "execution_count": null,
   "id": "219f17af-47b8-4ce1-b9f3-f8209321d6b9",
   "metadata": {},
   "outputs": [],
   "source": []
  }
 ],
 "metadata": {
  "kernelspec": {
   "display_name": "RAG_project",
   "language": "python",
   "name": "rag_project"
  },
  "language_info": {
   "codemirror_mode": {
    "name": "ipython",
    "version": 3
   },
   "file_extension": ".py",
   "mimetype": "text/x-python",
   "name": "python",
   "nbconvert_exporter": "python",
   "pygments_lexer": "ipython3",
   "version": "3.10.12"
  }
 },
 "nbformat": 4,
 "nbformat_minor": 5
}
